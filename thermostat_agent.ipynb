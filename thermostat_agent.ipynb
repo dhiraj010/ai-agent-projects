{
 "cells": [
  {
   "cell_type": "markdown",
   "id": "bec0c869",
   "metadata": {},
   "source": [
    "# Rule-Based Thermostat Agent\n",
    "This is a simple thermostat that decides what to do based on the room's temperature."
   ]
  },
  {
   "cell_type": "code",
   "execution_count": 7,
   "id": "7557ba40",
   "metadata": {},
   "outputs": [
    {
     "name": "stdout",
     "output_type": "stream",
     "text": [
      "Room temperature: 30 °C\n",
      "Action: Turn on the fan\n"
     ]
    }
   ],
   "source": [
    "# Rule-Based Thermostat Agent\n",
    "# Checks the temperature and decides an action based on rules\n",
    "\n",
    "temperature = 30  # Current room temperature in Celsius\n",
    "\n",
    "# Rules: Like instructions for the thermostat\n",
    "if temperature > 25:\n",
    "    action = \"Turn on the fan\"\n",
    "elif temperature < 18:\n",
    "    action = \"Turn on the heater\"\n",
    "else:\n",
    "    action = \"Do nothing\"\n",
    "\n",
    "# Show the result\n",
    "print(\"Room temperature:\", temperature, \"°C\")\n",
    "print(\"Action:\", action)"
   ]
  },
  {
   "cell_type": "markdown",
   "id": "00256920",
   "metadata": {},
   "source": [
    "## How It Works\n",
    "- The agent looks at the temperature (like checking the weather).\n",
    "- It follows rules:\n",
    "  - If temperature > 25°C, turn on the fan.\n",
    "  - If temperature < 18°C, turn on the heater.\n",
    "  - Otherwise, do nothing.\n",
    "- This is a rule-based agent because it uses \"if this, then that\" rules."
   ]
  },
  {
   "cell_type": "markdown",
   "id": "e8c0a1b1",
   "metadata": {},
   "source": [
    "# Testing the Thermostat Agent\n",
    "Let's try different temperatures to see what the agent does."
   ]
  },
  {
   "cell_type": "code",
   "execution_count": 8,
   "id": "006a84dc",
   "metadata": {},
   "outputs": [
    {
     "name": "stdout",
     "output_type": "stream",
     "text": [
      "Room temperature: 15 °C\n",
      "Action: Turn on the heater\n",
      "---\n",
      "Room temperature: 20 °C\n",
      "Action: Do nothing\n",
      "---\n",
      "Room temperature: 28 °C\n",
      "Action: Turn on the fan\n",
      "---\n"
     ]
    }
   ],
   "source": [
    "# Test the Thermostat Agent with different temperatures\n",
    "temperatures = [15, 20, 28]  # List of temperatures to test\n",
    "\n",
    "for temp in temperatures:\n",
    "    # Same rules as before\n",
    "    if temp > 25:\n",
    "        action = \"Turn on the fan\"\n",
    "    elif temp < 18:\n",
    "        action = \"Turn on the heater\"\n",
    "    else:\n",
    "        action = \"Do nothing\"\n",
    "    \n",
    "    # Show the result\n",
    "    print(\"Room temperature:\", temp, \"°C\")\n",
    "    print(\"Action:\", action)\n",
    "    print(\"---\")"
   ]
  },
  {
   "cell_type": "markdown",
   "id": "5afa6f0a",
   "metadata": {},
   "source": [
    "# Smarter Thermostat Agent\n",
    "Added a rule for very high temperatures (above 30°C)."
   ]
  },
  {
   "cell_type": "code",
   "execution_count": 9,
   "id": "041fee65",
   "metadata": {},
   "outputs": [
    {
     "name": "stdout",
     "output_type": "stream",
     "text": [
      "Room temperature: 32 °C\n",
      "Action: Open the window\n"
     ]
    }
   ],
   "source": [
    "# Smarter Thermostat Agent with extra rule\n",
    "temperature = 32  # Very hot temperature\n",
    "\n",
    "# New rules\n",
    "if temperature > 30:\n",
    "    action = \"Open the window\"\n",
    "elif temperature > 25:\n",
    "    action = \"Turn on the fan\"\n",
    "elif temperature < 18:\n",
    "    action = \"Turn on the heater\"\n",
    "else:\n",
    "    action = \"Do nothing\"\n",
    "\n",
    "# Show the result\n",
    "print(\"Room temperature:\", temperature, \"°C\")\n",
    "print(\"Action:\", action)"
   ]
  },
  {
   "cell_type": "markdown",
   "id": "35183cac",
   "metadata": {},
   "source": [
    "## Test Results\n",
    "- 15°C: Heater on (too cold).\n",
    "- 20°C: Do nothing (just right).\n",
    "- 28°C: Fan on (too hot).\n",
    "- 32°C: Open window (very hot).\n",
    "- The agent makes decisions based on rules, like a real thermostat!"
   ]
  },
  {
   "cell_type": "markdown",
   "id": "1c1655fd",
   "metadata": {},
   "source": [
    "# What I Learned\n",
    "- A rule-based agent follows \"if this, then that\" rules to decide actions.\n",
    "- My thermostat agent checks the temperature and decides to:\n",
    "  - Open the window if above 30°C.\n",
    "  - Turn on the fan if above 25°C.\n",
    "  - Turn on the heater if below 18°C.\n",
    "  - Do nothing if between 18°C and 25°C.\n",
    "- This is like a real thermostat in a house, but simple and based on rules.\n",
    "- I can add more rules to make it smarter!"
   ]
  }
 ],
 "metadata": {
  "kernelspec": {
   "display_name": "Python 3",
   "language": "python",
   "name": "python3"
  },
  "language_info": {
   "codemirror_mode": {
    "name": "ipython",
    "version": 3
   },
   "file_extension": ".py",
   "mimetype": "text/x-python",
   "name": "python",
   "nbconvert_exporter": "python",
   "pygments_lexer": "ipython3",
   "version": "3.10.0"
  }
 },
 "nbformat": 4,
 "nbformat_minor": 5
}
