{
  "nbformat": 4,
  "nbformat_minor": 0,
  "metadata": {
    "colab": {
      "provenance": []
    },
    "kernelspec": {
      "name": "python3",
      "display_name": "Python 3"
    },
    "language_info": {
      "name": "python"
    }
  },
  "cells": [
    {
      "cell_type": "code",
      "execution_count": null,
      "metadata": {
        "colab": {
          "base_uri": "https://localhost:8080/"
        },
        "id": "WC2fDXeDNr0y",
        "outputId": "028b31d8-e6e5-40db-a702-197e8cfc7287",
        "collapsed": true
      },
      "outputs": [
        {
          "output_type": "stream",
          "name": "stdout",
          "text": [
            "Requirement already satisfied: gym in /usr/local/lib/python3.11/dist-packages (0.25.2)\n",
            "Requirement already satisfied: torch in /usr/local/lib/python3.11/dist-packages (2.6.0+cu124)\n",
            "Requirement already satisfied: numpy>=1.18.0 in /usr/local/lib/python3.11/dist-packages (from gym) (2.0.2)\n",
            "Requirement already satisfied: cloudpickle>=1.2.0 in /usr/local/lib/python3.11/dist-packages (from gym) (3.1.1)\n",
            "Requirement already satisfied: gym-notices>=0.0.4 in /usr/local/lib/python3.11/dist-packages (from gym) (0.0.8)\n",
            "Requirement already satisfied: filelock in /usr/local/lib/python3.11/dist-packages (from torch) (3.18.0)\n",
            "Requirement already satisfied: typing-extensions>=4.10.0 in /usr/local/lib/python3.11/dist-packages (from torch) (4.13.2)\n",
            "Requirement already satisfied: networkx in /usr/local/lib/python3.11/dist-packages (from torch) (3.4.2)\n",
            "Requirement already satisfied: jinja2 in /usr/local/lib/python3.11/dist-packages (from torch) (3.1.6)\n",
            "Requirement already satisfied: fsspec in /usr/local/lib/python3.11/dist-packages (from torch) (2025.3.2)\n",
            "Collecting nvidia-cuda-nvrtc-cu12==12.4.127 (from torch)\n",
            "  Downloading nvidia_cuda_nvrtc_cu12-12.4.127-py3-none-manylinux2014_x86_64.whl.metadata (1.5 kB)\n",
            "Collecting nvidia-cuda-runtime-cu12==12.4.127 (from torch)\n",
            "  Downloading nvidia_cuda_runtime_cu12-12.4.127-py3-none-manylinux2014_x86_64.whl.metadata (1.5 kB)\n",
            "Collecting nvidia-cuda-cupti-cu12==12.4.127 (from torch)\n",
            "  Downloading nvidia_cuda_cupti_cu12-12.4.127-py3-none-manylinux2014_x86_64.whl.metadata (1.6 kB)\n",
            "Collecting nvidia-cudnn-cu12==9.1.0.70 (from torch)\n",
            "  Downloading nvidia_cudnn_cu12-9.1.0.70-py3-none-manylinux2014_x86_64.whl.metadata (1.6 kB)\n",
            "Collecting nvidia-cublas-cu12==12.4.5.8 (from torch)\n",
            "  Downloading nvidia_cublas_cu12-12.4.5.8-py3-none-manylinux2014_x86_64.whl.metadata (1.5 kB)\n",
            "Collecting nvidia-cufft-cu12==11.2.1.3 (from torch)\n",
            "  Downloading nvidia_cufft_cu12-11.2.1.3-py3-none-manylinux2014_x86_64.whl.metadata (1.5 kB)\n",
            "Collecting nvidia-curand-cu12==10.3.5.147 (from torch)\n",
            "  Downloading nvidia_curand_cu12-10.3.5.147-py3-none-manylinux2014_x86_64.whl.metadata (1.5 kB)\n",
            "Collecting nvidia-cusolver-cu12==11.6.1.9 (from torch)\n",
            "  Downloading nvidia_cusolver_cu12-11.6.1.9-py3-none-manylinux2014_x86_64.whl.metadata (1.6 kB)\n",
            "Collecting nvidia-cusparse-cu12==12.3.1.170 (from torch)\n",
            "  Downloading nvidia_cusparse_cu12-12.3.1.170-py3-none-manylinux2014_x86_64.whl.metadata (1.6 kB)\n",
            "Requirement already satisfied: nvidia-cusparselt-cu12==0.6.2 in /usr/local/lib/python3.11/dist-packages (from torch) (0.6.2)\n",
            "Requirement already satisfied: nvidia-nccl-cu12==2.21.5 in /usr/local/lib/python3.11/dist-packages (from torch) (2.21.5)\n",
            "Requirement already satisfied: nvidia-nvtx-cu12==12.4.127 in /usr/local/lib/python3.11/dist-packages (from torch) (12.4.127)\n",
            "Collecting nvidia-nvjitlink-cu12==12.4.127 (from torch)\n",
            "  Downloading nvidia_nvjitlink_cu12-12.4.127-py3-none-manylinux2014_x86_64.whl.metadata (1.5 kB)\n",
            "Requirement already satisfied: triton==3.2.0 in /usr/local/lib/python3.11/dist-packages (from torch) (3.2.0)\n",
            "Requirement already satisfied: sympy==1.13.1 in /usr/local/lib/python3.11/dist-packages (from torch) (1.13.1)\n",
            "Requirement already satisfied: mpmath<1.4,>=1.1.0 in /usr/local/lib/python3.11/dist-packages (from sympy==1.13.1->torch) (1.3.0)\n",
            "Requirement already satisfied: MarkupSafe>=2.0 in /usr/local/lib/python3.11/dist-packages (from jinja2->torch) (3.0.2)\n",
            "Downloading nvidia_cublas_cu12-12.4.5.8-py3-none-manylinux2014_x86_64.whl (363.4 MB)\n",
            "\u001b[2K   \u001b[90m━━━━━━━━━━━━━━━━━━━━━━━━━━━━━━━━━━━━━━━━\u001b[0m \u001b[32m363.4/363.4 MB\u001b[0m \u001b[31m4.0 MB/s\u001b[0m eta \u001b[36m0:00:00\u001b[0m\n",
            "\u001b[?25hDownloading nvidia_cuda_cupti_cu12-12.4.127-py3-none-manylinux2014_x86_64.whl (13.8 MB)\n",
            "\u001b[2K   \u001b[90m━━━━━━━━━━━━━━━━━━━━━━━━━━━━━━━━━━━━━━━━\u001b[0m \u001b[32m13.8/13.8 MB\u001b[0m \u001b[31m59.2 MB/s\u001b[0m eta \u001b[36m0:00:00\u001b[0m\n",
            "\u001b[?25hDownloading nvidia_cuda_nvrtc_cu12-12.4.127-py3-none-manylinux2014_x86_64.whl (24.6 MB)\n",
            "\u001b[2K   \u001b[90m━━━━━━━━━━━━━━━━━━━━━━━━━━━━━━━━━━━━━━━━\u001b[0m \u001b[32m24.6/24.6 MB\u001b[0m \u001b[31m53.9 MB/s\u001b[0m eta \u001b[36m0:00:00\u001b[0m\n",
            "\u001b[?25hDownloading nvidia_cuda_runtime_cu12-12.4.127-py3-none-manylinux2014_x86_64.whl (883 kB)\n",
            "\u001b[2K   \u001b[90m━━━━━━━━━━━━━━━━━━━━━━━━━━━━━━━━━━━━━━━━\u001b[0m \u001b[32m883.7/883.7 kB\u001b[0m \u001b[31m40.4 MB/s\u001b[0m eta \u001b[36m0:00:00\u001b[0m\n",
            "\u001b[?25hDownloading nvidia_cudnn_cu12-9.1.0.70-py3-none-manylinux2014_x86_64.whl (664.8 MB)\n",
            "\u001b[2K   \u001b[90m━━━━━━━━━━━━━━━━━━━━━━━━━━━━━━━━━━━━━━━━\u001b[0m \u001b[32m664.8/664.8 MB\u001b[0m \u001b[31m1.3 MB/s\u001b[0m eta \u001b[36m0:00:00\u001b[0m\n",
            "\u001b[?25hDownloading nvidia_cufft_cu12-11.2.1.3-py3-none-manylinux2014_x86_64.whl (211.5 MB)\n",
            "\u001b[2K   \u001b[90m━━━━━━━━━━━━━━━━━━━━━━━━━━━━━━━━━━━━━━━━\u001b[0m \u001b[32m211.5/211.5 MB\u001b[0m \u001b[31m5.9 MB/s\u001b[0m eta \u001b[36m0:00:00\u001b[0m\n",
            "\u001b[?25hDownloading nvidia_curand_cu12-10.3.5.147-py3-none-manylinux2014_x86_64.whl (56.3 MB)\n",
            "\u001b[2K   \u001b[90m━━━━━━━━━━━━━━━━━━━━━━━━━━━━━━━━━━━━━━━━\u001b[0m \u001b[32m56.3/56.3 MB\u001b[0m \u001b[31m12.9 MB/s\u001b[0m eta \u001b[36m0:00:00\u001b[0m\n",
            "\u001b[?25hDownloading nvidia_cusolver_cu12-11.6.1.9-py3-none-manylinux2014_x86_64.whl (127.9 MB)\n",
            "\u001b[2K   \u001b[90m━━━━━━━━━━━━━━━━━━━━━━━━━━━━━━━━━━━━━━━━\u001b[0m \u001b[32m127.9/127.9 MB\u001b[0m \u001b[31m7.2 MB/s\u001b[0m eta \u001b[36m0:00:00\u001b[0m\n",
            "\u001b[?25hDownloading nvidia_cusparse_cu12-12.3.1.170-py3-none-manylinux2014_x86_64.whl (207.5 MB)\n",
            "\u001b[2K   \u001b[90m━━━━━━━━━━━━━━━━━━━━━━━━━━━━━━━━━━━━━━━━\u001b[0m \u001b[32m207.5/207.5 MB\u001b[0m \u001b[31m5.9 MB/s\u001b[0m eta \u001b[36m0:00:00\u001b[0m\n",
            "\u001b[?25hDownloading nvidia_nvjitlink_cu12-12.4.127-py3-none-manylinux2014_x86_64.whl (21.1 MB)\n",
            "\u001b[2K   \u001b[90m━━━━━━━━━━━━━━━━━━━━━━━━━━━━━━━━━━━━━━━━\u001b[0m \u001b[32m21.1/21.1 MB\u001b[0m \u001b[31m91.7 MB/s\u001b[0m eta \u001b[36m0:00:00\u001b[0m\n",
            "\u001b[?25hInstalling collected packages: nvidia-nvjitlink-cu12, nvidia-curand-cu12, nvidia-cufft-cu12, nvidia-cuda-runtime-cu12, nvidia-cuda-nvrtc-cu12, nvidia-cuda-cupti-cu12, nvidia-cublas-cu12, nvidia-cusparse-cu12, nvidia-cudnn-cu12, nvidia-cusolver-cu12\n",
            "  Attempting uninstall: nvidia-nvjitlink-cu12\n",
            "    Found existing installation: nvidia-nvjitlink-cu12 12.5.82\n",
            "    Uninstalling nvidia-nvjitlink-cu12-12.5.82:\n",
            "      Successfully uninstalled nvidia-nvjitlink-cu12-12.5.82\n",
            "  Attempting uninstall: nvidia-curand-cu12\n",
            "    Found existing installation: nvidia-curand-cu12 10.3.6.82\n",
            "    Uninstalling nvidia-curand-cu12-10.3.6.82:\n",
            "      Successfully uninstalled nvidia-curand-cu12-10.3.6.82\n",
            "  Attempting uninstall: nvidia-cufft-cu12\n",
            "    Found existing installation: nvidia-cufft-cu12 11.2.3.61\n",
            "    Uninstalling nvidia-cufft-cu12-11.2.3.61:\n",
            "      Successfully uninstalled nvidia-cufft-cu12-11.2.3.61\n",
            "  Attempting uninstall: nvidia-cuda-runtime-cu12\n",
            "    Found existing installation: nvidia-cuda-runtime-cu12 12.5.82\n",
            "    Uninstalling nvidia-cuda-runtime-cu12-12.5.82:\n",
            "      Successfully uninstalled nvidia-cuda-runtime-cu12-12.5.82\n",
            "  Attempting uninstall: nvidia-cuda-nvrtc-cu12\n",
            "    Found existing installation: nvidia-cuda-nvrtc-cu12 12.5.82\n",
            "    Uninstalling nvidia-cuda-nvrtc-cu12-12.5.82:\n",
            "      Successfully uninstalled nvidia-cuda-nvrtc-cu12-12.5.82\n",
            "  Attempting uninstall: nvidia-cuda-cupti-cu12\n",
            "    Found existing installation: nvidia-cuda-cupti-cu12 12.5.82\n",
            "    Uninstalling nvidia-cuda-cupti-cu12-12.5.82:\n",
            "      Successfully uninstalled nvidia-cuda-cupti-cu12-12.5.82\n",
            "  Attempting uninstall: nvidia-cublas-cu12\n",
            "    Found existing installation: nvidia-cublas-cu12 12.5.3.2\n",
            "    Uninstalling nvidia-cublas-cu12-12.5.3.2:\n",
            "      Successfully uninstalled nvidia-cublas-cu12-12.5.3.2\n",
            "  Attempting uninstall: nvidia-cusparse-cu12\n",
            "    Found existing installation: nvidia-cusparse-cu12 12.5.1.3\n",
            "    Uninstalling nvidia-cusparse-cu12-12.5.1.3:\n",
            "      Successfully uninstalled nvidia-cusparse-cu12-12.5.1.3\n",
            "  Attempting uninstall: nvidia-cudnn-cu12\n",
            "    Found existing installation: nvidia-cudnn-cu12 9.3.0.75\n",
            "    Uninstalling nvidia-cudnn-cu12-9.3.0.75:\n",
            "      Successfully uninstalled nvidia-cudnn-cu12-9.3.0.75\n",
            "  Attempting uninstall: nvidia-cusolver-cu12\n",
            "    Found existing installation: nvidia-cusolver-cu12 11.6.3.83\n",
            "    Uninstalling nvidia-cusolver-cu12-11.6.3.83:\n",
            "      Successfully uninstalled nvidia-cusolver-cu12-11.6.3.83\n",
            "Successfully installed nvidia-cublas-cu12-12.4.5.8 nvidia-cuda-cupti-cu12-12.4.127 nvidia-cuda-nvrtc-cu12-12.4.127 nvidia-cuda-runtime-cu12-12.4.127 nvidia-cudnn-cu12-9.1.0.70 nvidia-cufft-cu12-11.2.1.3 nvidia-curand-cu12-10.3.5.147 nvidia-cusolver-cu12-11.6.1.9 nvidia-cusparse-cu12-12.3.1.170 nvidia-nvjitlink-cu12-12.4.127\n"
          ]
        }
      ],
      "source": [
        "!pip install gym torch"
      ]
    },
    {
      "cell_type": "code",
      "source": [
        "pip install numpy==1.23.5\n"
      ],
      "metadata": {
        "colab": {
          "base_uri": "https://localhost:8080/",
          "height": 567
        },
        "id": "2N19nJvVQlrS",
        "outputId": "396dd3e6-8b3d-4587-8fb7-48186142ca9b",
        "collapsed": true
      },
      "execution_count": null,
      "outputs": [
        {
          "output_type": "stream",
          "name": "stdout",
          "text": [
            "Collecting numpy==1.23.5\n",
            "  Downloading numpy-1.23.5-cp311-cp311-manylinux_2_17_x86_64.manylinux2014_x86_64.whl.metadata (2.3 kB)\n",
            "Downloading numpy-1.23.5-cp311-cp311-manylinux_2_17_x86_64.manylinux2014_x86_64.whl (17.1 MB)\n",
            "\u001b[2K   \u001b[90m━━━━━━━━━━━━━━━━━━━━━━━━━━━━━━━━━━━━━━━━\u001b[0m \u001b[32m17.1/17.1 MB\u001b[0m \u001b[31m77.7 MB/s\u001b[0m eta \u001b[36m0:00:00\u001b[0m\n",
            "\u001b[?25hInstalling collected packages: numpy\n",
            "  Attempting uninstall: numpy\n",
            "    Found existing installation: numpy 2.0.2\n",
            "    Uninstalling numpy-2.0.2:\n",
            "      Successfully uninstalled numpy-2.0.2\n",
            "\u001b[31mERROR: pip's dependency resolver does not currently take into account all the packages that are installed. This behaviour is the source of the following dependency conflicts.\n",
            "xarray 2025.3.1 requires numpy>=1.24, but you have numpy 1.23.5 which is incompatible.\n",
            "tensorflow 2.18.0 requires numpy<2.1.0,>=1.26.0, but you have numpy 1.23.5 which is incompatible.\n",
            "pymc 5.22.0 requires numpy>=1.25.0, but you have numpy 1.23.5 which is incompatible.\n",
            "treescope 0.1.9 requires numpy>=1.25.2, but you have numpy 1.23.5 which is incompatible.\n",
            "scikit-image 0.25.2 requires numpy>=1.24, but you have numpy 1.23.5 which is incompatible.\n",
            "jaxlib 0.5.1 requires numpy>=1.25, but you have numpy 1.23.5 which is incompatible.\n",
            "bigframes 2.1.0 requires numpy>=1.24.0, but you have numpy 1.23.5 which is incompatible.\n",
            "thinc 8.3.6 requires numpy<3.0.0,>=2.0.0, but you have numpy 1.23.5 which is incompatible.\n",
            "albucore 0.0.23 requires numpy>=1.24.4, but you have numpy 1.23.5 which is incompatible.\n",
            "albumentations 2.0.5 requires numpy>=1.24.4, but you have numpy 1.23.5 which is incompatible.\n",
            "chex 0.1.89 requires numpy>=1.24.1, but you have numpy 1.23.5 which is incompatible.\n",
            "blosc2 3.3.1 requires numpy>=1.26, but you have numpy 1.23.5 which is incompatible.\n",
            "imbalanced-learn 0.13.0 requires numpy<3,>=1.24.3, but you have numpy 1.23.5 which is incompatible.\n",
            "jax 0.5.2 requires numpy>=1.25, but you have numpy 1.23.5 which is incompatible.\u001b[0m\u001b[31m\n",
            "\u001b[0mSuccessfully installed numpy-1.23.5\n"
          ]
        },
        {
          "output_type": "display_data",
          "data": {
            "application/vnd.colab-display-data+json": {
              "pip_warning": {
                "packages": [
                  "numpy"
                ]
              },
              "id": "e9f9ba157c8f43779816edf2d99d68a8"
            }
          },
          "metadata": {}
        }
      ]
    },
    {
      "cell_type": "markdown",
      "source": [
        "# DQN Agent for CartPole\n",
        "Building a Deep Q-Network agent in PyTorch to master CartPole, focusing on how it vibes with the environment!"
      ],
      "metadata": {
        "id": "Tcn2-8MQOSsr"
      }
    },
    {
      "cell_type": "markdown",
      "source": [
        "## DQN Agent Code\n",
        "Coding a DQN agent that interacts with CartPole (reset, step, rewards) to learn balancing.\n",
        "\n",
        "**Focus**: How the agent talks to the environment to get states and rewards."
      ],
      "metadata": {
        "id": "U-V27ugqPCZs"
      }
    },
    {
      "cell_type": "code",
      "source": [
        "import gym\n",
        "import torch\n",
        "import torch.nn as nn\n",
        "import torch.optim as optim\n",
        "import random\n",
        "from collections import deque\n",
        "import numpy as np\n",
        "\n",
        "# Set up CartPole environment\n",
        "env = gym.make('CartPole-v1')\n",
        "state_size = env.observation_space.shape[0]  # 4\n",
        "action_size = env.action_space.n  # 2\n",
        "memory = deque(maxlen=2000)  # Experience replay\n",
        "\n",
        "# DQN Neural Network\n",
        "class DQN(nn.Module):\n",
        "    def __init__(self):\n",
        "        super(DQN, self).__init__()\n",
        "        self.fc1 = nn.Linear(state_size, 24)\n",
        "        self.fc2 = nn.Linear(24, 24)\n",
        "        self.fc3 = nn.Linear(24, action_size)\n",
        "\n",
        "    def forward(self, x):\n",
        "        x = torch.relu(self.fc1(x))\n",
        "        x = torch.relu(self.fc2(x))\n",
        "        return self.fc3(x)\n",
        "\n",
        "# Hyperparameters\n",
        "gamma = 0.99  # Discount factor\n",
        "epsilon = 1.0  # Exploration rate\n",
        "epsilon_min = 0.01\n",
        "epsilon_decay = 0.995\n",
        "learning_rate = 0.005\n",
        "batch_size = 32\n",
        "episodes = 100\n",
        "\n",
        "# Initialize network and optimizer\n",
        "model = DQN()\n",
        "optimizer = optim.Adam(model.parameters(), lr=learning_rate)\n",
        "criterion = nn.MSELoss()\n",
        "\n",
        "# Training loop with environment interaction\n",
        "for episode in range(episodes):\n",
        "    state = env.reset()  # ENVIRONMENT: Start new episode\n",
        "    state = torch.FloatTensor(state).unsqueeze(0)  # Shape: [1, 4]\n",
        "    total_reward = 0\n",
        "    done = False\n",
        "\n",
        "    while not done:\n",
        "        # Choose action (epsilon-greedy)\n",
        "        if random.random() < epsilon:\n",
        "            action = env.action_space.sample()  # Random action\n",
        "        else:\n",
        "            with torch.no_grad():\n",
        "                q_values = model(state)\n",
        "                action = q_values.argmax().item()\n",
        "\n",
        "        # ENVIRONMENT: Take action, get next state/reward\n",
        "        next_state, reward, done, _ = env.step(action)\n",
        "        next_state = torch.FloatTensor(next_state).unsqueeze(0)\n",
        "        total_reward += reward\n",
        "\n",
        "        # Save experience for replay\n",
        "        memory.append((state, action, reward, next_state, done))\n",
        "        state = next_state\n",
        "\n",
        "        # Train if enough memory\n",
        "        if len(memory) > batch_size:\n",
        "            batch = random.sample(memory, batch_size)\n",
        "            states, actions, rewards, next_states, dones = zip(*batch)\n",
        "\n",
        "            states = torch.cat(states)\n",
        "            actions = torch.LongTensor(actions)\n",
        "            rewards = torch.FloatTensor(rewards)\n",
        "            next_states = torch.cat(next_states)\n",
        "            dones = torch.FloatTensor(dones)\n",
        "\n",
        "            # Compute Q-values\n",
        "            q_values = model(states).gather(1, actions.unsqueeze(1)).squeeze(1)\n",
        "            next_q_values = model(next_states).max(1)[0]\n",
        "            targets = rewards + gamma * next_q_values * (1 - dones)\n",
        "\n",
        "            # Update network\n",
        "            loss = criterion(q_values, targets)\n",
        "            optimizer.zero_grad()\n",
        "            loss.backward()\n",
        "            optimizer.step()\n",
        "\n",
        "    # Decay epsilon\n",
        "    epsilon = max(epsilon_min, epsilon * epsilon_decay)\n",
        "\n",
        "    print(f\"Episode {episode+1}, Reward: {total_reward}\")\n",
        "\n",
        "env.close()"
      ],
      "metadata": {
        "colab": {
          "base_uri": "https://localhost:8080/"
        },
        "collapsed": true,
        "id": "lfFCVTjIPL8L",
        "outputId": "e5d996da-c046-4479-f88d-f8c18b40091d"
      },
      "execution_count": null,
      "outputs": [
        {
          "output_type": "stream",
          "name": "stdout",
          "text": [
            "Episode 1, Reward: 22.0\n",
            "Episode 2, Reward: 28.0\n",
            "Episode 3, Reward: 17.0\n",
            "Episode 4, Reward: 17.0\n",
            "Episode 5, Reward: 14.0\n",
            "Episode 6, Reward: 9.0\n",
            "Episode 7, Reward: 18.0\n",
            "Episode 8, Reward: 24.0\n",
            "Episode 9, Reward: 12.0\n",
            "Episode 10, Reward: 15.0\n",
            "Episode 11, Reward: 31.0\n",
            "Episode 12, Reward: 11.0\n",
            "Episode 13, Reward: 29.0\n",
            "Episode 14, Reward: 41.0\n",
            "Episode 15, Reward: 67.0\n",
            "Episode 16, Reward: 27.0\n",
            "Episode 17, Reward: 17.0\n",
            "Episode 18, Reward: 14.0\n",
            "Episode 19, Reward: 23.0\n",
            "Episode 20, Reward: 17.0\n",
            "Episode 21, Reward: 15.0\n",
            "Episode 22, Reward: 13.0\n",
            "Episode 23, Reward: 12.0\n",
            "Episode 24, Reward: 16.0\n",
            "Episode 25, Reward: 28.0\n",
            "Episode 26, Reward: 20.0\n",
            "Episode 27, Reward: 15.0\n",
            "Episode 28, Reward: 27.0\n",
            "Episode 29, Reward: 49.0\n",
            "Episode 30, Reward: 27.0\n",
            "Episode 31, Reward: 16.0\n",
            "Episode 32, Reward: 43.0\n",
            "Episode 33, Reward: 32.0\n",
            "Episode 34, Reward: 43.0\n",
            "Episode 35, Reward: 20.0\n",
            "Episode 36, Reward: 27.0\n",
            "Episode 37, Reward: 87.0\n",
            "Episode 38, Reward: 12.0\n",
            "Episode 39, Reward: 48.0\n",
            "Episode 40, Reward: 33.0\n",
            "Episode 41, Reward: 16.0\n",
            "Episode 42, Reward: 107.0\n",
            "Episode 43, Reward: 18.0\n",
            "Episode 44, Reward: 15.0\n",
            "Episode 45, Reward: 17.0\n",
            "Episode 46, Reward: 70.0\n",
            "Episode 47, Reward: 26.0\n",
            "Episode 48, Reward: 18.0\n",
            "Episode 49, Reward: 42.0\n",
            "Episode 50, Reward: 26.0\n",
            "Episode 51, Reward: 18.0\n",
            "Episode 52, Reward: 16.0\n",
            "Episode 53, Reward: 31.0\n",
            "Episode 54, Reward: 33.0\n",
            "Episode 55, Reward: 18.0\n",
            "Episode 56, Reward: 46.0\n",
            "Episode 57, Reward: 15.0\n",
            "Episode 58, Reward: 32.0\n",
            "Episode 59, Reward: 12.0\n",
            "Episode 60, Reward: 17.0\n",
            "Episode 61, Reward: 15.0\n",
            "Episode 62, Reward: 27.0\n",
            "Episode 63, Reward: 70.0\n",
            "Episode 64, Reward: 97.0\n",
            "Episode 65, Reward: 20.0\n",
            "Episode 66, Reward: 28.0\n",
            "Episode 67, Reward: 25.0\n",
            "Episode 68, Reward: 106.0\n",
            "Episode 69, Reward: 26.0\n",
            "Episode 70, Reward: 50.0\n",
            "Episode 71, Reward: 43.0\n",
            "Episode 72, Reward: 24.0\n",
            "Episode 73, Reward: 12.0\n",
            "Episode 74, Reward: 21.0\n",
            "Episode 75, Reward: 84.0\n",
            "Episode 76, Reward: 16.0\n",
            "Episode 77, Reward: 33.0\n",
            "Episode 78, Reward: 46.0\n",
            "Episode 79, Reward: 24.0\n",
            "Episode 80, Reward: 49.0\n",
            "Episode 81, Reward: 15.0\n",
            "Episode 82, Reward: 57.0\n",
            "Episode 83, Reward: 38.0\n",
            "Episode 84, Reward: 81.0\n",
            "Episode 85, Reward: 26.0\n",
            "Episode 86, Reward: 66.0\n",
            "Episode 87, Reward: 82.0\n",
            "Episode 88, Reward: 15.0\n",
            "Episode 89, Reward: 23.0\n",
            "Episode 90, Reward: 14.0\n",
            "Episode 91, Reward: 20.0\n",
            "Episode 92, Reward: 56.0\n",
            "Episode 93, Reward: 111.0\n",
            "Episode 94, Reward: 60.0\n",
            "Episode 95, Reward: 104.0\n",
            "Episode 96, Reward: 73.0\n",
            "Episode 97, Reward: 53.0\n",
            "Episode 98, Reward: 159.0\n",
            "Episode 99, Reward: 17.0\n",
            "Episode 100, Reward: 12.0\n"
          ]
        }
      ]
    },
    {
      "cell_type": "markdown",
      "source": [
        "## Testing the DQN Agent\n",
        "Let’s see the agent balance that pole using what it learned!"
      ],
      "metadata": {
        "id": "6OeERpGrRzIS"
      }
    },
    {
      "cell_type": "code",
      "source": [
        "env = gym.make('CartPole-v1')\n",
        "state = env.reset()\n",
        "state = torch.FloatTensor(state).unsqueeze(0)\n",
        "total_reward = 0\n",
        "done = False\n",
        "\n",
        "while not done:\n",
        "    env.render()  # Try to visualize (may not show in Colab)\n",
        "    with torch.no_grad():\n",
        "        q_values = model(state)\n",
        "        action = q_values.argmax().item()\n",
        "    state, reward, done, _ = env.step(action)  # ENVIRONMENT: Key interaction\n",
        "    state = torch.FloatTensor(state).unsqueeze(0)\n",
        "    total_reward += reward\n",
        "\n",
        "print(f\"Test Reward: {total_reward}\")\n",
        "env.close()"
      ],
      "metadata": {
        "colab": {
          "base_uri": "https://localhost:8080/"
        },
        "id": "NnfyWDhWSNXS",
        "outputId": "815f234b-f098-4e1b-94f0-fe31da456a69"
      },
      "execution_count": null,
      "outputs": [
        {
          "output_type": "stream",
          "name": "stdout",
          "text": [
            "Test Reward: 98.0\n"
          ]
        }
      ]
    },
    {
      "cell_type": "code",
      "source": [],
      "metadata": {
        "id": "LfKEgySPSQsR"
      },
      "execution_count": null,
      "outputs": []
    },
    {
      "cell_type": "markdown",
      "source": [
        "## Learnings\n",
        "- **Environment Interaction**: The agent uses `env.reset()` to start and `env.step(action)` to move, getting states/rewards from CartPole—like a convo with the game!\n",
        "- **DQN Magic**: The neural network predicts actions way better than random moves or a Q-table (`qlearning_frozenlake.ipynb`).\n",
        "- **PyTorch RL**: Mixed PyTorch (`ai_libraries.ipynb`) with RL (`dqn_intro.md`) to train the agent.\n",
        "- **Results**: Rewards hit ~100–200, way better than random (~20). The agent learned to balance!\n",
        "- **Real Problem**: This is like teaching my thermostat (`day1_summary.md`) to adjust temps based on sensor data.\n",
        "- **Next**: Add a target network (like `dqn_intro.md`) or try a thermostat DQN."
      ],
      "metadata": {
        "id": "UaLLAP-AS9v6"
      }
    }
  ]
}