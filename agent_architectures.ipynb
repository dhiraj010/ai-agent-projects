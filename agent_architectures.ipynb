{
 "cells": [
  {
   "cell_type": "markdown",
   "id": "e6e44a7b",
   "metadata": {},
   "source": [
    "# Lecture Notes\n",
    "- AI agents are like smart helpers that sense, think, and act.\n",
    "- Learning-based agents learn from examples, like a kid learning to draw.\n",
    "- Neural networks are like a brain for learning-based agents."
   ]
  },
  {
   "cell_type": "markdown",
   "id": "6c978b8f",
   "metadata": {},
   "source": [
    "# Rule-Based Agent"
   ]
  },
  {
   "cell_type": "code",
   "execution_count": 7,
   "id": "87fbe720",
   "metadata": {},
   "outputs": [
    {
     "name": "stdout",
     "output_type": "stream",
     "text": [
      "Temperature: 18\n",
      "Action: Turn on heater\n"
     ]
    }
   ],
   "source": [
    "# Rule-Based Agent: Follows strict \"if-then\" rules\n",
    "temperature = 18  # Celsius\n",
    "\n",
    "if temperature < 20:\n",
    "    action = \"Turn on heater\"\n",
    "else:\n",
    "    action = \"Turn off heater\"\n",
    "\n",
    "print(\"Temperature:\", temperature)\n",
    "print(\"Action:\", action)"
   ]
  },
  {
   "cell_type": "markdown",
   "id": "3f4c1e51",
   "metadata": {},
   "source": [
    "# Model-Based Agent"
   ]
  },
  {
   "cell_type": "code",
   "execution_count": 8,
   "id": "0edd8392",
   "metadata": {},
   "outputs": [
    {
     "name": "stdout",
     "output_type": "stream",
     "text": [
      "Current Location: Home\n",
      "Possible Destinations: ['Work', 'Store']\n",
      "Action: Go to Work\n"
     ]
    }
   ],
   "source": [
    "# Model-Based Agent: Uses a simple map of the world\n",
    "location = \"Home\"\n",
    "world_model = {\n",
    "    \"Home\": [\"Work\", \"Store\"],\n",
    "    \"Work\": [\"Home\"],\n",
    "    \"Store\": [\"Home\"]\n",
    "}\n",
    "\n",
    "possible_destinations = world_model[location]\n",
    "action = f\"Go to {possible_destinations[0]}\"\n",
    "\n",
    "print(\"Current Location:\", location)\n",
    "print(\"Possible Destinations:\", possible_destinations)\n",
    "print(\"Action:\", action)"
   ]
  },
  {
   "cell_type": "markdown",
   "id": "826b67b9",
   "metadata": {},
   "source": [
    "# Learning-Based Agent"
   ]
  },
  {
   "cell_type": "code",
   "execution_count": 9,
   "id": "c0ce2ae5",
   "metadata": {},
   "outputs": [
    {
     "name": "stdout",
     "output_type": "stream",
     "text": [
      "Try 1: Chose Left, Got reward 10\n",
      "Try 2: Chose Left, Got reward 10\n",
      "Try 3: Chose Right, Got reward 5\n",
      "Best choice after learning: Left\n"
     ]
    }
   ],
   "source": [
    "import random\n",
    "\n",
    "# Learning-Based Agent: Learns by trying and improving\n",
    "choices = [\"Left\", \"Right\"]\n",
    "rewards = {\"Left\": 10, \"Right\": 5}  # Right gives less reward\n",
    "\n",
    "# Try 3 times to learn\n",
    "for i in range(3):\n",
    "    choice = random.choice(choices)  # Pick randomly\n",
    "    reward = rewards[choice]\n",
    "    print(f\"Try {i+1}: Chose {choice}, Got reward {reward}\")\n",
    "\n",
    "# After learning, pick the best (hard-coded for simplicity)\n",
    "best_choice = \"Left\"  # In real learning, it would figure this out\n",
    "print(\"Best choice after learning:\", best_choice)"
   ]
  },
  {
   "cell_type": "markdown",
   "id": "298324e7",
   "metadata": {},
   "source": [
    "# What I Learned\n",
    "- Rule-Based Agents: Follow simple rules, like \"if hot, turn on fan\". Good for easy tasks but not flexible.\n",
    "- Model-Based Agents: Use a map of the world to plan, like avoiding a wall. Smarter but needs a good map.\n",
    "- Learning-Based Agents: Learn from trying things, like picking the best move in a game. Flexible but needs time to learn.\n",
    "- Lecture: Showed how agents sense, think, and act in different ways."
   ]
  }
 ],
 "metadata": {
  "kernelspec": {
   "display_name": "Python 3",
   "language": "python",
   "name": "python3"
  },
  "language_info": {
   "codemirror_mode": {
    "name": "ipython",
    "version": 3
   },
   "file_extension": ".py",
   "mimetype": "text/x-python",
   "name": "python",
   "nbconvert_exporter": "python",
   "pygments_lexer": "ipython3",
   "version": "3.10.0"
  }
 },
 "nbformat": 4,
 "nbformat_minor": 5
}
