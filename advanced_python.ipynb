{
 "cells": [
  {
   "cell_type": "markdown",
   "id": "1823248e",
   "metadata": {},
   "source": [
    "# Advanced Python Concepts\n",
    "Learning list comprehensions, decorators, and error handling with simple examples for AI projects."
   ]
  },
  {
   "cell_type": "markdown",
   "id": "7c09009f",
   "metadata": {},
   "source": [
    "## List Comprehensions\n",
    "**What It Is**: A quick way to create lists in one line, like making a list of squared numbers.\n",
    "\n",
    "**Use Case**: Useful in AI for processing data (e.g., preparing numbers for a neural network)."
   ]
  },
  {
   "cell_type": "code",
   "execution_count": null,
   "id": "15ababee",
   "metadata": {},
   "outputs": [],
   "source": [
    "# Normal way with a loop\n",
    "squares_loop = []\n",
    "for x in [1, 2, 3, 4]:\n",
    "    squares_loop.append(x * x)\n",
    "print(\"Squares using loop:\", squares_loop)\n",
    "\n",
    "# List comprehension (faster)\n",
    "squares_comp = [x * x for x in [1, 2, 3, 4]]\n",
    "print(\"Squares using list comprehension:\", squares_comp)"
   ]
  },
  {
   "cell_type": "markdown",
   "id": "72c629c2",
   "metadata": {},
   "source": [
    "## Decorators\n",
    "**What It Is**: A way to add features (e.g., a timer) to functions without changing them.\n",
    "\n",
    "**Use Case**: Useful in AI to time tasks (e.g., how long a neural network trains)."
   ]
  },
  {
   "cell_type": "code",
   "execution_count": null,
   "id": "1f4af54f",
   "metadata": {},
   "outputs": [],
   "source": [
    "import time\n",
    "\n",
    "# Decorator to time a function\n",
    "def timer_decorator(func):\n",
    "    def wrapper():\n",
    "        start = time.time()\n",
    "        func()\n",
    "        end = time.time()\n",
    "        print(f\"{func.__name__} took {end - start:.2f} seconds\")\n",
    "    return wrapper\n",
    "\n",
    "# Function to decorate\n",
    "@timer_decorator\n",
    "def slow_function():\n",
    "    print(\"Working...\")\n",
    "    time.sleep(2)\n",
    "\n",
    "# Run the function\n",
    "slow_function()"
   ]
  },
  {
   "cell_type": "markdown",
   "id": "4aa877af",
   "metadata": {},
   "source": [
    "## Error Handling\n",
    "**What It Is**: A way to catch mistakes (e.g., invalid inputs) to keep the program running.\n",
    "\n",
    "**Use Case**: Useful in AI to handle bad data (e.g., wrong inputs in a chatbot)."
   ]
  },
  {
   "cell_type": "code",
   "execution_count": null,
   "id": "67ae96c2",
   "metadata": {},
   "outputs": [],
   "source": [
    "# Error handling with try-except\n",
    "try:\n",
    "    number = int(input(\"Enter a number: \"))\n",
    "    print(\"You entered:\", number)\n",
    "except ValueError:\n",
    "    print(\"Please enter a valid number!\")"
   ]
  },
  {
   "cell_type": "markdown",
   "id": "48ff8af3",
   "metadata": {},
   "source": [
    "# What I Learned\n",
    "- **List Comprehensions**: Make lists quickly (e.g., squared numbers). Saves time in AI data prep.\n",
    "- **Decorators**: Add features like timers to functions. Useful for tracking AI tasks.\n",
    "- **Error Handling**: Catches mistakes (e.g., bad inputs) to keep programs running. Great for robust AI.\n",
    "- **For AI Tasks**: These tools make my code faster (list comprehensions), smarter (decorators), and safer (error handling) for projects like my thermostat agent or PyTorch models."
   ]
  }
 ],
 "metadata": {
  "language_info": {
   "name": "python"
  }
 },
 "nbformat": 4,
 "nbformat_minor": 5
}
