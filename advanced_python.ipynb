{
 "cells": [
  {
   "cell_type": "markdown",
   "id": "87642ccc",
   "metadata": {},
   "source": [
    "# Advanced Python Concepts\n",
    "Learning list comprehensions, decorators, and error handling with simple examples for AI projects."
   ]
  },
  {
   "cell_type": "markdown",
   "id": "62b784af",
   "metadata": {},
   "source": [
    "## List Comprehensions\n",
    "**What It Is**: A quick way to create lists in one line, like making a list of squared numbers.\n",
    "\n",
    "**Use Case**: Useful in AI for processing data (e.g., preparing numbers for a neural network)."
   ]
  },
  {
   "cell_type": "code",
   "execution_count": null,
   "id": "8948d57b",
   "metadata": {},
   "outputs": [],
   "source": [
    "# Normal way with a loop\n",
    "squares_loop = []\n",
    "for x in [1, 2, 3, 4]:\n",
    "    squares_loop.append(x * x)\n",
    "print(\"Squares using loop:\", squares_loop)\n",
    "\n",
    "# List comprehension (faster)\n",
    "squares_comp = [x * x for x in [1, 2, 3, 4]]\n",
    "print(\"Squares using list comprehension:\", squares_comp)"
   ]
  },
  {
   "cell_type": "markdown",
   "id": "f61e1d8a",
   "metadata": {},
   "source": [
    "## Decorators\n",
    "**What It Is**: A way to add features (e.g., a timer) to functions without changing them.\n",
    "\n",
    "**Use Case**: Useful in AI to time tasks (e.g., how long a neural network trains)."
   ]
  },
  {
   "cell_type": "code",
   "execution_count": 8,
   "id": "8e4ed7dd",
   "metadata": {},
   "outputs": [
    {
     "name": "stdout",
     "output_type": "stream",
     "text": [
      "Working...\n",
      "slow_function took 2.02 seconds\n"
     ]
    }
   ],
   "source": [
    "import time\n",
    "\n",
    "# Decorator to time a function\n",
    "def timer_decorator(func):\n",
    "    def wrapper():\n",
    "        start = time.time()\n",
    "        func()\n",
    "        end = time.time()\n",
    "        print(f\"{func.__name__} took {end - start:.2f} seconds\")\n",
    "    return wrapper\n",
    "\n",
    "# Function to decorate\n",
    "@timer_decorator\n",
    "def slow_function():\n",
    "    print(\"Working...\")\n",
    "    time.sleep(2)\n",
    "\n",
    "# Run the function\n",
    "slow_function()"
   ]
  },
  {
   "cell_type": "markdown",
   "id": "8bfe4a77",
   "metadata": {},
   "source": [
    "## Error Handling\n",
    "**What It Is**: A way to catch mistakes (e.g., invalid inputs) to keep the program running.\n",
    "\n",
    "**Use Case**: Useful in AI to handle bad data (e.g., wrong inputs in a chatbot)."
   ]
  },
  {
   "cell_type": "code",
   "execution_count": 2,
   "id": "1a60f8c8",
   "metadata": {},
   "outputs": [
    {
     "name": "stdout",
     "output_type": "stream",
     "text": [
      "Please enter a valid number!\n"
     ]
    }
   ],
   "source": [
    "# Error handling with try-except\n",
    "try:\n",
    "    number = int(input(\"Enter a number: \"))\n",
    "    print(\"You entered:\", number)\n",
    "except ValueError:\n",
    "    print(\"Please enter a valid number!\")\n",
    "    "
   ]
  },
  {
   "cell_type": "markdown",
   "id": "180bb853",
   "metadata": {},
   "source": [
    "# What I Learned\n",
    "- **List Comprehensions**: Make lists quickly (e.g., squared numbers). Saves time in AI data prep.\n",
    "- **Decorators**: Add features like timers to functions. Useful for tracking AI tasks.\n",
    "- **Error Handling**: Catches mistakes (e.g., bad inputs) to keep programs running. Great for robust AI.\n",
    "- **For AI Tasks**: These tools make my code faster (list comprehensions), smarter (decorators), and safer (error handling) for projects like my thermostat agent or PyTorch models."
   ]
  }
 ],
 "metadata": {
  "kernelspec": {
   "display_name": "Python (venv)",
   "language": "python",
   "name": "venv"
  },
  "language_info": {
   "codemirror_mode": {
    "name": "ipython",
    "version": 3
   },
   "file_extension": ".py",
   "mimetype": "text/x-python",
   "name": "python",
   "nbconvert_exporter": "python",
   "pygments_lexer": "ipython3",
   "version": "3.10.0"
  }
 },
 "nbformat": 4,
 "nbformat_minor": 5
}
