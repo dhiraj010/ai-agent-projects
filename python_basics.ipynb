{
 "cells": [
  {
   "cell_type": "markdown",
   "id": "2324b2ea",
   "metadata": {},
   "source": [
    "for i in range(1,6):\n",
    "print(f\"For loop: {i}\")"
   ]
  },
  {
   "cell_type": "code",
   "execution_count": null,
   "id": "f5ff2f08",
   "metadata": {},
   "outputs": [],
   "source": []
  },
  {
   "cell_type": "code",
   "execution_count": 1,
   "id": "8c42b80b",
   "metadata": {},
   "outputs": [
    {
     "name": "stdout",
     "output_type": "stream",
     "text": [
      "For loop: 1\n",
      "For loop: 2\n",
      "For loop: 3\n",
      "For loop: 4\n",
      "For loop: 5\n"
     ]
    }
   ],
   "source": [
    "for i in range(1,6):\n",
    "    print(f\"For loop: {i}\")"
   ]
  },
  {
   "cell_type": "code",
   "execution_count": 3,
   "id": "c5f27e4c",
   "metadata": {},
   "outputs": [
    {
     "name": "stdout",
     "output_type": "stream",
     "text": [
      "While loop: Added 1, Total = 1\n",
      "While loop: Added 2, Total = 3\n",
      "While loop: Added 3, Total = 6\n",
      "While loop: Added 4, Total = 10\n",
      "While loop: Added 5, Total = 15\n",
      "While loop: Added 6, Total = 21\n",
      "While loop: Added 7, Total = 28\n",
      "While loop: Added 8, Total = 36\n",
      "While loop: Added 9, Total = 45\n",
      "While loop: Added 10, Total = 55\n",
      "While loop: Added 11, Total = 66\n",
      "While loop: Added 12, Total = 78\n",
      "While loop: Added 13, Total = 91\n",
      "While loop: Added 14, Total = 105\n"
     ]
    }
   ],
   "source": [
    "total = 0\n",
    "num = 1 \n",
    "while total <= 100:\n",
    "    total += num\n",
    "    print(f\"While loop: Added {num}, Total = {total}\")\n",
    "    num += 1"
   ]
  },
  {
   "cell_type": "code",
   "execution_count": 1,
   "id": "f2acdaa6",
   "metadata": {},
   "outputs": [
    {
     "name": "stdout",
     "output_type": "stream",
     "text": [
      "Area of rectangle: 15\n"
     ]
    }
   ],
   "source": [
    "# Functions: Define and call\n",
    "def calculate_area(length, width):\n",
    "    \"\"\"Calculate area of a rectangle.\"\"\"\n",
    "    area = length * width\n",
    "    return area\n",
    "\n",
    "# Call function\n",
    "rect_area = calculate_area(5, 3)\n",
    "print(f\"Area of rectangle: {rect_area}\")"
   ]
  },
  {
   "cell_type": "code",
   "execution_count": 2,
   "id": "9ebfbe43",
   "metadata": {},
   "outputs": [
    {
     "name": "stdout",
     "output_type": "stream",
     "text": [
      "Hello, Alice!\n",
      "Hello, User!\n"
     ]
    }
   ],
   "source": [
    "# Function with default argument\n",
    "def greet(name=\"User\"):\n",
    "    return f\"Hello, {name}!\"\n",
    "\n",
    "print(greet(\"Alice\"))\n",
    "print(greet())"
   ]
  },
  {
   "cell_type": "code",
   "execution_count": 4,
   "id": "f4942515",
   "metadata": {},
   "outputs": [
    {
     "name": "stdout",
     "output_type": "stream",
     "text": [
      "Buddy says Woof!\n",
      "Max is 5 years old\n"
     ]
    }
   ],
   "source": [
    "# Classes: Define a simple class\n",
    "class Dog:\n",
    "    def __init__(self, name, age):\n",
    "        self.name = name\n",
    "        self.age = age\n",
    "    \n",
    "    def bark(self):\n",
    "        return f\"{self.name} says Woof!\"\n",
    "\n",
    "# Create instances\n",
    "dog1 = Dog(\"Buddy\", 3)\n",
    "dog2 = Dog(\"Max\", 5)\n",
    "\n",
    "# Call methods\n",
    "print(dog1.bark())\n",
    "print(f\"{dog2.name} is {dog2.age} years old\")"
   ]
  },
  {
   "cell_type": "code",
   "execution_count": 5,
   "id": "07e6f8ba",
   "metadata": {},
   "outputs": [
    {
     "name": "stdout",
     "output_type": "stream",
     "text": [
      "[0, 1]\n"
     ]
    }
   ],
   "source": [
    "# Two Sum: Given nums and target, return indices of two numbers that sum to target\n",
    "def twoSum(nums, target):\n",
    "    seen = {}\n",
    "    for i, num in enumerate(nums):\n",
    "        complement = target - num\n",
    "        if complement in seen:\n",
    "            return [seen[complement], i]\n",
    "        seen[num] = i\n",
    "    return []\n",
    "\n",
    "# Test\n",
    "print(twoSum([2, 7, 11, 15], 9))  # Output: [0, 1]"
   ]
  },
  {
   "cell_type": "code",
   "execution_count": null,
   "id": "87a4550f",
   "metadata": {},
   "outputs": [],
   "source": []
  }
 ],
 "metadata": {
  "kernelspec": {
   "display_name": "Python 3",
   "language": "python",
   "name": "python3"
  },
  "language_info": {
   "codemirror_mode": {
    "name": "ipython",
    "version": 3
   },
   "file_extension": ".py",
   "mimetype": "text/x-python",
   "name": "python",
   "nbconvert_exporter": "python",
   "pygments_lexer": "ipython3",
   "version": "3.10.0"
  }
 },
 "nbformat": 4,
 "nbformat_minor": 5
}
