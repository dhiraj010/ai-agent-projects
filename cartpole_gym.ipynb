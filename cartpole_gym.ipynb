{
  "nbformat": 4,
  "nbformat_minor": 0,
  "metadata": {
    "colab": {
      "provenance": []
    },
    "kernelspec": {
      "name": "python3",
      "display_name": "Python 3"
    },
    "language_info": {
      "name": "python"
    }
  },
  "cells": [
    {
      "cell_type": "code",
      "execution_count": 1,
      "metadata": {
        "id": "n7euGx6x5tSL",
        "colab": {
          "base_uri": "https://localhost:8080/"
        },
        "outputId": "ad0e4d37-b492-4e47-9fde-e4af1d5781bf"
      },
      "outputs": [
        {
          "output_type": "stream",
          "name": "stdout",
          "text": [
            "Requirement already satisfied: gym in /usr/local/lib/python3.11/dist-packages (0.25.2)\n",
            "Requirement already satisfied: numpy>=1.18.0 in /usr/local/lib/python3.11/dist-packages (from gym) (2.0.2)\n",
            "Requirement already satisfied: cloudpickle>=1.2.0 in /usr/local/lib/python3.11/dist-packages (from gym) (3.1.1)\n",
            "Requirement already satisfied: gym-notices>=0.0.4 in /usr/local/lib/python3.11/dist-packages (from gym) (0.0.8)\n"
          ]
        }
      ],
      "source": [
        "!pip install gym"
      ]
    },
    {
      "cell_type": "markdown",
      "source": [
        "# OpenAI Gym: CartPole Environment\n",
        "A notebook to set up OpenAI Gym, run the CartPole environment, and explore its API for learning RL environments."
      ],
      "metadata": {
        "id": "UC6VyVv2650B"
      }
    },
    {
      "cell_type": "markdown",
      "source": [
        "## Running the CartPole Environment\n",
        "Code to run CartPole with random actions and visualize the results.\n",
        "\n",
        "**Goal**: See how the environment works and understand its states, actions, and rewards."
      ],
      "metadata": {
        "id": "eaAvjC647Dfx"
      }
    },
    {
      "cell_type": "code",
      "source": [
        "import gym\n",
        "import time\n",
        "import matplotlib.pyplot as plt\n",
        "from IPython.display import clear_output, display\n",
        "import numpy as np\n",
        "\n",
        "# Create environment with render_mode=\"rgb_array\"\n",
        "env = gym.make(\"CartPole-v1\", render_mode=\"rgb_array\")\n",
        "\n",
        "# Reset environment\n",
        "observation, info = env.reset()\n",
        "total_reward = 0\n",
        "\n",
        "# Setup matplotlib for live display\n",
        "plt.ion()\n",
        "fig, ax = plt.subplots()\n",
        "\n",
        "# Run the loop\n",
        "for step in range(500):\n",
        "    # Get rendered frame as an array\n",
        "    frame = env.render()\n",
        "\n",
        "    # Display the frame\n",
        "    ax.clear()\n",
        "    ax.imshow(frame)\n",
        "    ax.axis('off')\n",
        "    display(fig)\n",
        "    clear_output(wait=True)\n",
        "\n",
        "    # Take random action\n",
        "    action = env.action_space.sample()\n",
        "    observation, reward, terminated, truncated, info = env.step(action)\n",
        "    done = terminated or truncated\n",
        "    total_reward += reward\n",
        "\n",
        "    time.sleep(0.2)  # optional delay\n",
        "\n",
        "    if done:\n",
        "        print(f\"Episode ended after {step+1} steps. Total reward: {total_reward}\")\n",
        "        break\n",
        "\n",
        "env.close()\n"
      ],
      "metadata": {
        "colab": {
          "base_uri": "https://localhost:8080/",
          "height": 384
        },
        "id": "e8wQ1HN5DSSQ",
        "outputId": "c3e98abc-569d-4c78-b46c-586f175efadc"
      },
      "execution_count": 14,
      "outputs": [
        {
          "output_type": "stream",
          "name": "stdout",
          "text": [
            "Episode ended after 13 steps. Total reward: 13.0\n"
          ]
        },
        {
          "output_type": "display_data",
          "data": {
            "text/plain": [
              "<Figure size 640x480 with 1 Axes>"
            ],
            "image/png": "[encoded data removed]"
          },
          "metadata": {}
        }
      ]
    },
    {
      "cell_type": "markdown",
      "source": [
        "## Exploring the Gym API\n",
        "Code to inspect CartPole’s states, actions, and rewards.\n",
        "\n",
        "**Goal**: Understand how to interact with the environment for RL training."
      ],
      "metadata": {
        "id": "soGnAVzWKjt3"
      }
    },
    {
      "cell_type": "code",
      "source": [
        "import gym\n",
        "\n",
        "# Create the CartPole environment\n",
        "env = gym.make('CartPole-v1')\n",
        "\n",
        "# Explore the action space\n",
        "print(\"Action Space:\", env.action_space)\n",
        "print(\"Sample Action:\", env.action_space.sample())\n",
        "\n",
        "# Explore the observation space\n",
        "print(\"Observation Space:\", env.observation_space)\n",
        "print(\"Observation Space Shape:\", env.observation_space.shape)\n",
        "print(\"Observation Space High:\", env.observation_space.high)\n",
        "print(\"Observation Space Low:\", env.observation_space.low)\n",
        "\n",
        "# Reset the environment and check initial observation\n",
        "observation = env.reset()\n",
        "print(\"Initial Observation:\", observation)\n",
        "\n",
        "# Take one step and inspect the results\n",
        "action = env.action_space.sample()\n",
        "observation, reward, terminated, truncated, info = env.step(action)\n",
        "done = terminated or truncated\n",
        "print(\"Action Taken:\", action)\n",
        "print(\"New Observation:\", observation)\n",
        "print(\"Reward:\", reward)\n",
        "print(\"Done:\", done)\n",
        "print(\"Info:\", info)\n",
        "\n",
        "# Close the environment\n",
        "env.close()"
      ],
      "metadata": {
        "colab": {
          "base_uri": "https://localhost:8080/"
        },
        "id": "PgcTuyKOKsMl",
        "outputId": "70c3ebac-cda6-4e3d-94ea-bce03c02f58a"
      },
      "execution_count": 20,
      "outputs": [
        {
          "output_type": "stream",
          "name": "stdout",
          "text": [
            "Action Space: Discrete(2)\n",
            "Sample Action: 1\n",
            "Observation Space: Box([-4.8000002e+00 -3.4028235e+38 -4.1887903e-01 -3.4028235e+38], [4.8000002e+00 3.4028235e+38 4.1887903e-01 3.4028235e+38], (4,), float32)\n",
            "Observation Space Shape: (4,)\n",
            "Observation Space High: [4.8000002e+00 3.4028235e+38 4.1887903e-01 3.4028235e+38]\n",
            "Observation Space Low: [-4.8000002e+00 -3.4028235e+38 -4.1887903e-01 -3.4028235e+38]\n",
            "Initial Observation: (array([ 0.03204083,  0.04938364, -0.02228095,  0.00902385], dtype=float32), {})\n",
            "Action Taken: 1\n",
            "New Observation: [ 0.0330285   0.24481793 -0.02210047 -0.29060486]\n",
            "Reward: 1.0\n",
            "Done: False\n",
            "Info: {}\n"
          ]
        }
      ]
    }
  ]
}