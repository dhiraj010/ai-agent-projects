{
 "cells": [
  {
   "cell_type": "markdown",
   "id": "7cd21fbe",
   "metadata": {},
   "source": [
    "# Lecture Notes\n",
    "- AI agents are like smart helpers that sense, think, and act.\n",
    "- Learning-based agents learn from examples, like a kid learning to draw.\n",
    "- Neural networks are like a brain for learning-based agents."
   ]
  },
  {
   "cell_type": "markdown",
   "id": "24a0467c",
   "metadata": {},
   "source": [
    "# What I Learned\n",
    "- Rule-Based Agents: Follow simple rules, like \"if hot, turn on fan\". Good for easy tasks but not flexible.\n",
    "- Model-Based Agents: Use a map of the world to plan, like avoiding a wall. Smarter but needs a good map.\n",
    "- Learning-Based Agents: Learn from trying things, like picking the best move in a game. Flexible but needs time to learn.\n",
    "- Lecture: Showed how agents sense, think, and act in different ways."
   ]
  }
 ],
 "metadata": {
  "language_info": {
   "name": "python"
  }
 },
 "nbformat": 4,
 "nbformat_minor": 5
}
